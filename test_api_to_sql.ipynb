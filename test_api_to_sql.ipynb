{
 "cells": [
  {
   "cell_type": "code",
   "execution_count": 15,
   "metadata": {
    "collapsed": true
   },
   "outputs": [],
   "source": [
    "import pandas as pd\n",
    "\n",
    "# We request the data needed to generate the seecow dashboard\n",
    "\n",
    "df_controleperformance = pd.read_csv(\"https://plateforme.api-agro.fr/explore/dataset/seenergi-controle-de-performance/download/?format=csv&timezone=Europe/Berlin&use_labels_for_header=true&apikey=0e7fd717ca09975637fdca3ceec566a4231a56c6d3f2b8190aca9d1d\", sep=\";\")\n",
    "df_lactation = pd.read_csv(\"https://plateforme.api-agro.fr/explore/dataset/seenergi-lactation/download/?format=csv&timezone=Europe/Berlin&use_labels_for_header=true&apikey=0e7fd717ca09975637fdca3ceec566a4231a56c6d3f2b8190aca9d1d\", sep=\";\")\n"
   ]
  },
  {
   "cell_type": "code",
   "execution_count": 16,
   "metadata": {},
   "outputs": [
    {
     "name": "stdout",
     "output_type": "stream",
     "text": [
      "Index(['NUCHEP', 'NUNATI', 'DAPAUL', 'NULACT', 'ETFEOB', 'LAIT_TECHNIQUE',\n",
      "       'TB', 'TP', 'CELL', 'RACE', 'NOTE_ACETONEMIE',\n",
      "       'LAIT_JDEVIE (dercontrôle)'],\n",
      "      dtype='object')\n",
      "Index(['NUCHEP', 'NUNATI', 'NULACT', 'DADELA', 'DULACT', 'LAIT_TOT', 'TB_MOY',\n",
      "       'TP_MOY', 'LAIT_TOT_305J', 'TB_MOY_305J', 'TP_MOY_305J', 'DUTAR', 'IVV',\n",
      "       'AGE_VEL'],\n",
      "      dtype='object')\n"
     ]
    }
   ],
   "source": [
    "print(df_controleperformance.columns)\n",
    "print(df_lactation.columns)"
   ]
  },
  {
   "cell_type": "code",
   "execution_count": 17,
   "metadata": {
    "collapsed": true
   },
   "outputs": [],
   "source": [
    "serie = df_controleperformance['DAPAUL']"
   ]
  },
  {
   "cell_type": "code",
   "execution_count": 23,
   "metadata": {},
   "outputs": [
    {
     "name": "stdout",
     "output_type": "stream",
     "text": [
      "154\n"
     ]
    }
   ],
   "source": [
    "last_control = serie.sort_values(ascending=False).unique()[0]\n",
    "dff = df_controleperformance[df_controleperformance['DAPAUL']==last_control]\n",
    "print(len(dff))"
   ]
  },
  {
   "cell_type": "code",
   "execution_count": 25,
   "metadata": {},
   "outputs": [
    {
     "data": {
      "text/plain": [
       "array([72369100.])"
      ]
     },
     "execution_count": 25,
     "metadata": {},
     "output_type": "execute_result"
    }
   ],
   "source": [
    "dff[\"NUCHEP\"].unique()"
   ]
  },
  {
   "cell_type": "code",
   "execution_count": 52,
   "metadata": {},
   "outputs": [],
   "source": [
    "list_ = [int(i) for i in dff[\"NUNATI\"].values[:100]]"
   ]
  },
  {
   "cell_type": "code",
   "execution_count": 66,
   "metadata": {},
   "outputs": [],
   "source": []
  },
  {
   "cell_type": "code",
   "execution_count": 75,
   "metadata": {},
   "outputs": [
    {
     "name": "stdout",
     "output_type": "stream",
     "text": [
      "91\n"
     ]
    }
   ],
   "source": [
    "dffl = df_lactation[df_lactation['NUNATI'] == list_[1]]\n",
    "dffcp = dff[dff['NUNATI'] == list_[1]]\n",
    "nulact = dffl.sort_values('DADELA', ascending=False)\n",
    "\n",
    "a = dffcp['DAPAUL'].values[0]\n",
    "b = nulact['DADELA'].values[0]\n",
    "from dateutil import parser\n",
    "aa = parser.parse(a)\n",
    "bb = parser.parse(b)\n",
    "print((aa-bb).days)"
   ]
  },
  {
   "cell_type": "code",
   "execution_count": null,
   "metadata": {
    "collapsed": true
   },
   "outputs": [],
   "source": []
  }
 ],
 "metadata": {
  "kernelspec": {
   "display_name": "Python 3",
   "language": "python",
   "name": "python3"
  },
  "language_info": {
   "codemirror_mode": {
    "name": "ipython",
    "version": 3
   },
   "file_extension": ".py",
   "mimetype": "text/x-python",
   "name": "python",
   "nbconvert_exporter": "python",
   "pygments_lexer": "ipython3",
   "version": "3.6.4"
  }
 },
 "nbformat": 4,
 "nbformat_minor": 2
}
